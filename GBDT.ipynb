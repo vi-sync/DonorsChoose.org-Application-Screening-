{
 "cells": [
  {
   "cell_type": "code",
   "execution_count": 414,
   "metadata": {},
   "outputs": [],
   "source": [
    "\n",
    "import pandas as pd\n",
    "import numpy as np\n",
    "import nltk\n",
    "from nltk.sentiment.vader import SentimentIntensityAnalyzer\n",
    "from sklearn.model_selection import train_test_split\n",
    "from sklearn.feature_extraction.text import CountVectorizer\n",
    "from sklearn.feature_extraction.text import TfidfVectorizer\n",
    "import pickle\n",
    "from tqdm import tqdm\n",
    "import warnings\n",
    "warnings.filterwarnings('ignore')\n",
    "from sklearn.preprocessing import  Normalizer\n",
    "from scipy.sparse import hstack\n",
    "from scipy import  sparse\n",
    "import time\n",
    "from sklearn.ensemble import GradientBoostingClassifier\n",
    "from sklearn import metrics\n",
    "import seaborn as sns\n",
    "from sklearn.model_selection import GridSearchCV\n",
    "import matplotlib.pyplot as plt\n"
   ]
  },
  {
   "cell_type": "markdown",
   "metadata": {},
   "source": [
    "<h1>1. GBDT (xgboost/lightgbm) </h1>"
   ]
  },
  {
   "cell_type": "markdown",
   "metadata": {},
   "source": [
    "## 1.1 Loading Data"
   ]
  },
  {
   "cell_type": "code",
   "execution_count": 415,
   "metadata": {},
   "outputs": [
    {
     "name": "stdout",
     "output_type": "stream",
     "text": [
      "no of rows and colu,ns in the file are  (109248, 9)\n"
     ]
    }
   ],
   "source": [
    "data=pd.read_csv('preprocessed_data.csv')\n",
    "\n",
    "print('no of rows and colu,ns in the file are ',data.shape)"
   ]
  },
  {
   "cell_type": "code",
   "execution_count": 416,
   "metadata": {},
   "outputs": [
    {
     "data": {
      "text/html": [
       "<div>\n",
       "<style scoped>\n",
       "    .dataframe tbody tr th:only-of-type {\n",
       "        vertical-align: middle;\n",
       "    }\n",
       "\n",
       "    .dataframe tbody tr th {\n",
       "        vertical-align: top;\n",
       "    }\n",
       "\n",
       "    .dataframe thead th {\n",
       "        text-align: right;\n",
       "    }\n",
       "</style>\n",
       "<table border=\"1\" class=\"dataframe\">\n",
       "  <thead>\n",
       "    <tr style=\"text-align: right;\">\n",
       "      <th></th>\n",
       "      <th>school_state</th>\n",
       "      <th>teacher_prefix</th>\n",
       "      <th>project_grade_category</th>\n",
       "      <th>teacher_number_of_previously_posted_projects</th>\n",
       "      <th>project_is_approved</th>\n",
       "      <th>clean_categories</th>\n",
       "      <th>clean_subcategories</th>\n",
       "      <th>essay</th>\n",
       "      <th>price</th>\n",
       "    </tr>\n",
       "  </thead>\n",
       "  <tbody>\n",
       "    <tr>\n",
       "      <th>0</th>\n",
       "      <td>ca</td>\n",
       "      <td>mrs</td>\n",
       "      <td>grades_prek_2</td>\n",
       "      <td>53</td>\n",
       "      <td>1</td>\n",
       "      <td>math_science</td>\n",
       "      <td>appliedsciences health_lifescience</td>\n",
       "      <td>i fortunate enough use fairy tale stem kits cl...</td>\n",
       "      <td>725.05</td>\n",
       "    </tr>\n",
       "    <tr>\n",
       "      <th>1</th>\n",
       "      <td>ut</td>\n",
       "      <td>ms</td>\n",
       "      <td>grades_3_5</td>\n",
       "      <td>4</td>\n",
       "      <td>1</td>\n",
       "      <td>specialneeds</td>\n",
       "      <td>specialneeds</td>\n",
       "      <td>imagine 8 9 years old you third grade classroo...</td>\n",
       "      <td>213.03</td>\n",
       "    </tr>\n",
       "    <tr>\n",
       "      <th>2</th>\n",
       "      <td>ca</td>\n",
       "      <td>mrs</td>\n",
       "      <td>grades_prek_2</td>\n",
       "      <td>10</td>\n",
       "      <td>1</td>\n",
       "      <td>literacy_language</td>\n",
       "      <td>literacy</td>\n",
       "      <td>having class 24 students comes diverse learner...</td>\n",
       "      <td>329.00</td>\n",
       "    </tr>\n",
       "    <tr>\n",
       "      <th>3</th>\n",
       "      <td>ga</td>\n",
       "      <td>mrs</td>\n",
       "      <td>grades_prek_2</td>\n",
       "      <td>2</td>\n",
       "      <td>1</td>\n",
       "      <td>appliedlearning</td>\n",
       "      <td>earlydevelopment</td>\n",
       "      <td>i recently read article giving students choice...</td>\n",
       "      <td>481.04</td>\n",
       "    </tr>\n",
       "    <tr>\n",
       "      <th>4</th>\n",
       "      <td>wa</td>\n",
       "      <td>mrs</td>\n",
       "      <td>grades_3_5</td>\n",
       "      <td>2</td>\n",
       "      <td>1</td>\n",
       "      <td>literacy_language</td>\n",
       "      <td>literacy</td>\n",
       "      <td>my students crave challenge eat obstacles brea...</td>\n",
       "      <td>17.74</td>\n",
       "    </tr>\n",
       "  </tbody>\n",
       "</table>\n",
       "</div>"
      ],
      "text/plain": [
       "  school_state teacher_prefix project_grade_category  \\\n",
       "0           ca            mrs          grades_prek_2   \n",
       "1           ut             ms             grades_3_5   \n",
       "2           ca            mrs          grades_prek_2   \n",
       "3           ga            mrs          grades_prek_2   \n",
       "4           wa            mrs             grades_3_5   \n",
       "\n",
       "   teacher_number_of_previously_posted_projects  project_is_approved  \\\n",
       "0                                            53                    1   \n",
       "1                                             4                    1   \n",
       "2                                            10                    1   \n",
       "3                                             2                    1   \n",
       "4                                             2                    1   \n",
       "\n",
       "    clean_categories                 clean_subcategories  \\\n",
       "0       math_science  appliedsciences health_lifescience   \n",
       "1       specialneeds                        specialneeds   \n",
       "2  literacy_language                            literacy   \n",
       "3    appliedlearning                    earlydevelopment   \n",
       "4  literacy_language                            literacy   \n",
       "\n",
       "                                               essay   price  \n",
       "0  i fortunate enough use fairy tale stem kits cl...  725.05  \n",
       "1  imagine 8 9 years old you third grade classroo...  213.03  \n",
       "2  having class 24 students comes diverse learner...  329.00  \n",
       "3  i recently read article giving students choice...  481.04  \n",
       "4  my students crave challenge eat obstacles brea...   17.74  "
      ]
     },
     "execution_count": 416,
     "metadata": {},
     "output_type": "execute_result"
    }
   ],
   "source": [
    "data.head()"
   ]
  },
  {
   "cell_type": "markdown",
   "metadata": {},
   "source": [
    "#### Selecting 40000points "
   ]
  },
  {
   "cell_type": "code",
   "execution_count": 417,
   "metadata": {},
   "outputs": [
    {
     "name": "stdout",
     "output_type": "stream",
     "text": [
      "no of rows and columns after copying is  (40000, 9)\n"
     ]
    }
   ],
   "source": [
    "data=data.iloc[:40000,:].copy(deep=True)\n",
    "print('no of rows and columns after copying is ',data.shape)\n"
   ]
  },
  {
   "cell_type": "markdown",
   "metadata": {},
   "source": [
    "## 1.1.1 Getting sentiment values"
   ]
  },
  {
   "cell_type": "code",
   "execution_count": 418,
   "metadata": {},
   "outputs": [],
   "source": [
    "import nltk\n",
    "from nltk.sentiment.vader import SentimentIntensityAnalyzer\n",
    "# import nltk\n",
    "# nltk.download('vader_lexicon')\n",
    "\n",
    "sid = SentimentIntensityAnalyzer()\n",
    "\n",
    "def polarity_scores(row):\n",
    "    \n",
    "    neutral=[]\n",
    "    negative=[]\n",
    "    positive=[]\n",
    "    compound=[]\n",
    "    for r in row:\n",
    "        \n",
    "        scores_dict=sid.polarity_scores(r)\n",
    "        \n",
    "        neutral.append(scores_dict['neg'])\n",
    "        negative.append(scores_dict['neu'])\n",
    "        positive.append(scores_dict['pos'])\n",
    "        compound.append(scores_dict['compound'])\n",
    "    return neutral,positive,negative,compound\n",
    "    \n",
    "    \n",
    "    \n",
    "    \n",
    "\n",
    "neutral,positive,negative,compound=polarity_scores(data['essay'])\n",
    "\n",
    "data['neutral']=neutral\n",
    "data['positive']=positive\n",
    "data['negative']=negative\n",
    "data['compound']=compound\n",
    "\n",
    "    "
   ]
  },
  {
   "cell_type": "markdown",
   "metadata": {},
   "source": [
    "<h2>1.2 Splitting data into Train and cross validation(or test): Stratified Sampling</h2>"
   ]
  },
  {
   "cell_type": "code",
   "execution_count": 419,
   "metadata": {},
   "outputs": [],
   "source": [
    "x=data.drop(['project_is_approved'],axis=1)\n",
    "y=data['project_is_approved']\n"
   ]
  },
  {
   "cell_type": "code",
   "execution_count": 420,
   "metadata": {},
   "outputs": [],
   "source": [
    "x_train,x_test,y_train,y_test=train_test_split(x,y,stratify=y,train_size=0.7)"
   ]
  },
  {
   "cell_type": "code",
   "execution_count": 421,
   "metadata": {},
   "outputs": [
    {
     "data": {
      "text/plain": [
       "(28000, 12)"
      ]
     },
     "execution_count": 421,
     "metadata": {},
     "output_type": "execute_result"
    }
   ],
   "source": [
    "x_train.shape"
   ]
  },
  {
   "cell_type": "code",
   "execution_count": 422,
   "metadata": {},
   "outputs": [
    {
     "data": {
      "text/plain": [
       "(28000,)"
      ]
     },
     "execution_count": 422,
     "metadata": {},
     "output_type": "execute_result"
    }
   ],
   "source": [
    "y_train.shape"
   ]
  },
  {
   "cell_type": "markdown",
   "metadata": {},
   "source": [
    "<h2>1.3 Make Data Model Ready: encoding eassay, and project_title</h2>"
   ]
  },
  {
   "cell_type": "markdown",
   "metadata": {},
   "source": [
    "categrical features\n",
    "- school state\n",
    "- teacher_prefix\n",
    "- project_grade_category\n",
    "- clean_categories\n",
    "- clean_subcategories\n",
    "\n",
    "Numerical features\n",
    "- sentiment values(negative,neutral,positive,compound)\n",
    "- price\n",
    "- number of proj prev posted"
   ]
  },
  {
   "cell_type": "markdown",
   "metadata": {},
   "source": [
    "## A. TEXT FEATURE"
   ]
  },
  {
   "cell_type": "markdown",
   "metadata": {},
   "source": [
    "#### A.1. ESSAY(TFIDF)"
   ]
  },
  {
   "cell_type": "code",
   "execution_count": 423,
   "metadata": {},
   "outputs": [],
   "source": [
    "tfidf_vect=TfidfVectorizer(min_df=10)\n",
    "essay_vect_tfidf=tfidf_vect.fit(x_train['essay'].values)"
   ]
  },
  {
   "cell_type": "code",
   "execution_count": 424,
   "metadata": {},
   "outputs": [
    {
     "name": "stdout",
     "output_type": "stream",
     "text": [
      "shapes before vectorization\n",
      "(28000,)\n",
      "(12000,)\n",
      "========== shape after vectorization ==========\n",
      "(28000, 9663)\n",
      "(12000, 9663)\n"
     ]
    }
   ],
   "source": [
    "x_tr_essay_tfidf=essay_vect_tfidf.transform(x_train['essay'].values)\n",
    "x_te_essay_tfidf=essay_vect_tfidf.transform(x_test['essay'].values)\n",
    "\n",
    "print('shapes before vectorization')\n",
    "print(x_train['essay'].shape)\n",
    "#print(x_cv['essay'].shape)\n",
    "print(x_test['essay'].shape)\n",
    "\n",
    "print('='*10,'shape after vectorization','='*10)\n",
    "\n",
    "print(x_tr_essay_tfidf.shape)\n",
    "#print(x_cv_essay_tfidf.shape)\n",
    "print(x_te_essay_tfidf.shape)"
   ]
  },
  {
   "cell_type": "markdown",
   "metadata": {},
   "source": [
    "#### A.1.2. WEIGHTED W2V TFIDF(ESSAY)"
   ]
  },
  {
   "cell_type": "code",
   "execution_count": 425,
   "metadata": {},
   "outputs": [],
   "source": [
    "## misc\n",
    "tfidf_vect=TfidfVectorizer()\n",
    "tfidf_vect.fit(x_train['essay']) \n",
    "idf_dict=dict(zip(tfidf_vect.get_feature_names(),list(tfidf_vect.idf_)))"
   ]
  },
  {
   "cell_type": "code",
   "execution_count": 426,
   "metadata": {},
   "outputs": [],
   "source": [
    "from tqdm import tqdm\n",
    "# function to get TF-IDF weighted word2vec\n",
    "def get_tfidf_w2v(dictionary,essays,glove_words,tfidf_words):\n",
    "    tfidf_w2v_vectors = []; # the avg-w2v for each sentence/review is stored in this list\n",
    "    for sentence in tqdm(essays): # for each review/sentence\n",
    "        vector = np.zeros(300) # as word vectors are of zero length\n",
    "        tf_idf_weight =0; # num of words with a valid vector in the sentence/review\n",
    "        for word in sentence.split(): # for each word in a review/sentence\n",
    "            if (word in glove_words) and (word in tfidf_words):\n",
    "                vec = model[word] # getting the vector for each word\n",
    "                # here we are multiplying idf value(dictionary[word]) and the tf value((sentence.count(word)/len(sentence.split())))\n",
    "                tf_idf = dictionary[word]*(sentence.count(word)/len(sentence.split())) # getting the tfidf value for each word\n",
    "                vector += (vec * tf_idf) # calculating tfidf weighted w2v\n",
    "                tf_idf_weight += tf_idf\n",
    "        if tf_idf_weight != 0:\n",
    "            vector /= tf_idf_weight\n",
    "        tfidf_w2v_vectors.append(vector)\n",
    "    return tfidf_w2v_vectors\n",
    "    \n",
    "\n",
    "with open('glove_vectors', 'rb') as f:\n",
    "    model = pickle.load(f)\n",
    "glove_words = set(model.keys())\n",
    "tfidf_words=set(tfidf_vect.get_feature_names())\n"
   ]
  },
  {
   "cell_type": "code",
   "execution_count": 427,
   "metadata": {},
   "outputs": [
    {
     "name": "stderr",
     "output_type": "stream",
     "text": [
      "100%|███████████████████████████████████████████████████████████████████████████| 28000/28000 [00:57<00:00, 484.34it/s]"
     ]
    },
    {
     "name": "stdout",
     "output_type": "stream",
     "text": [
      "lenth of x_train tfidf_weighted w2v vectors =  28000\n",
      "dimensions of the vectors is =  300\n"
     ]
    },
    {
     "name": "stderr",
     "output_type": "stream",
     "text": [
      "\n"
     ]
    }
   ],
   "source": [
    "### train data\n",
    "x_tr_essay=x_train['essay']\n",
    "tfidf_w2v_vector_train=get_tfidf_w2v(idf_dict,x_tr_essay,glove_words,tfidf_words)\n",
    "\n",
    "print('lenth of x_train tfidf_weighted w2v vectors = ',len(tfidf_w2v_vector_train))\n",
    "print('dimensions of the vectors is = ',len(tfidf_w2v_vector_train[0]))"
   ]
  },
  {
   "cell_type": "code",
   "execution_count": 428,
   "metadata": {},
   "outputs": [
    {
     "name": "stderr",
     "output_type": "stream",
     "text": [
      "100%|███████████████████████████████████████████████████████████████████████████| 12000/12000 [00:24<00:00, 483.31it/s]\n"
     ]
    },
    {
     "name": "stdout",
     "output_type": "stream",
     "text": [
      "lenth of x_test tfidf_weighted w2v vectors =  12000\n",
      "shape of x_train vecs (28000, 300)\n",
      "shape of x_test vecs (12000, 300)\n"
     ]
    }
   ],
   "source": [
    "# test data TF-IDF weighted word2vec\n",
    "x_te_essay=x_test['essay']\n",
    "tfidf_w2v_vectors_test=get_tfidf_w2v(idf_dict,x_te_essay,glove_words,tfidf_words)\n",
    "print('lenth of x_test tfidf_weighted w2v vectors = ',len(tfidf_w2v_vectors_test))\n",
    "#print(len(tfidf_w2v_vectors_test[0]))\n",
    "\n",
    "print('shape of x_train vecs',np.shape(tfidf_w2v_vector_train))\n",
    "print('shape of x_test vecs',np.shape(tfidf_w2v_vectors_test))\n",
    "#print('shape of x_cv vecs',np.shape(tfidf_w2v_vectors_cv))"
   ]
  },
  {
   "cell_type": "markdown",
   "metadata": {},
   "source": [
    "## B. Response encoding \n",
    "    \n",
    "            \n",
    "        \n",
    "    \n",
    "    "
   ]
  },
  {
   "cell_type": "code",
   "execution_count": 429,
   "metadata": {},
   "outputs": [],
   "source": [
    "def fit(feature):\n",
    "    alpha=1\n",
    "    x_train['target_label']=y_train \n",
    "    count = x_train[ feature ].value_counts()  #series storing the each type of category with there no of occurences\n",
    "    probability_dict = dict() #dict with prob values of each category\n",
    "    for cat, denominator in count.items():\n",
    "        res_vec = []\n",
    "        for j in range(2): #since we have 2 types of class labels\n",
    "            instances =x_train.loc[ ( x_train['target_label'] == j ) & (x_train[feature] == cat ) ] #instances where the condition is satisfied\n",
    "            res_vec.append( instances.shape[0] + alpha *10  / denominator + alpha*90  ) #laplace smoothing\n",
    "        probability_dict[cat] = res_vec    \n",
    "    return probability_dict,count\n",
    "\n",
    "\n",
    "def transform(feature,df):\n",
    "    probability_dict,count = fit(feature)\n",
    "    final_res_vect=[] #final response vector\n",
    "    for cat in df[feature]:\n",
    "        if cat in dict( count ).keys():# transform test data with trainning probabilities\n",
    "            final_res_vect.append( probability_dict[cat] )\n",
    "        else:\n",
    "            final_res_vect.append([0.5, 0.05]) #if category is not in the training data  ut present in the test data\n",
    "    return final_res_vect"
   ]
  },
  {
   "cell_type": "markdown",
   "metadata": {},
   "source": [
    "#### B.1 school state"
   ]
  },
  {
   "cell_type": "code",
   "execution_count": 430,
   "metadata": {},
   "outputs": [],
   "source": [
    "x_tr_skul_state_rc =np.array(transform('school_state',x_train))\n",
    "x_te_skul_state_rc =np.array(transform('school_state',x_test)) "
   ]
  },
  {
   "cell_type": "code",
   "execution_count": 431,
   "metadata": {},
   "outputs": [
    {
     "name": "stdout",
     "output_type": "stream",
     "text": [
      "After vectorizations\n",
      "(28000, 2) (28000,)\n",
      "(12000, 2) (12000,)\n",
      "========================================\n"
     ]
    }
   ],
   "source": [
    "print(\"After vectorizations\")\n",
    "print(x_tr_skul_state_rc.shape, y_train.shape)\n",
    "print(x_te_skul_state_rc.shape, y_test.shape)\n",
    "print(\"=\"*40)"
   ]
  },
  {
   "cell_type": "markdown",
   "metadata": {},
   "source": [
    "#### B.2 teacher prefix"
   ]
  },
  {
   "cell_type": "code",
   "execution_count": 432,
   "metadata": {},
   "outputs": [
    {
     "name": "stdout",
     "output_type": "stream",
     "text": [
      "After vectorizations\n",
      "(28000, 2) (28000,)\n",
      "(12000, 2) (12000,)\n",
      "========================================\n"
     ]
    }
   ],
   "source": [
    "x_tr_prefix_rc=np.array(transform('teacher_prefix',x_train))\n",
    "x_te_prefix_rc=np.array(transform('teacher_prefix',x_test))\n",
    "\n",
    "print(\"After vectorizations\")\n",
    "print(x_tr_prefix_rc.shape, y_train.shape)\n",
    "print(x_te_prefix_rc.shape, y_test.shape)\n",
    "print(\"=\"*40)"
   ]
  },
  {
   "cell_type": "markdown",
   "metadata": {},
   "source": [
    "#### B.3  project grade category"
   ]
  },
  {
   "cell_type": "code",
   "execution_count": 433,
   "metadata": {},
   "outputs": [
    {
     "name": "stdout",
     "output_type": "stream",
     "text": [
      "After vectorizations\n",
      "(28000, 2) (28000,)\n",
      "(12000, 2) (12000,)\n",
      "========================================\n"
     ]
    }
   ],
   "source": [
    "x_tr_prj_grade_cat_rc=np.array(transform('project_grade_category',x_train))\n",
    "x_te_prj_grade_cat_rc=np.array(transform('project_grade_category',x_test))\n",
    "\n",
    "print(\"After vectorizations\")\n",
    "print(x_tr_prj_grade_cat_rc.shape, y_train.shape)\n",
    "print(x_te_prj_grade_cat_rc.shape, y_test.shape)\n",
    "print(\"=\"*40)"
   ]
  },
  {
   "cell_type": "markdown",
   "metadata": {},
   "source": [
    "#### B.4 clean_categories"
   ]
  },
  {
   "cell_type": "code",
   "execution_count": 434,
   "metadata": {},
   "outputs": [
    {
     "name": "stdout",
     "output_type": "stream",
     "text": [
      "After vectorizations\n",
      "(28000, 2) (28000,)\n",
      "(12000, 2) (12000,)\n",
      "========================================\n"
     ]
    }
   ],
   "source": [
    "x_tr_clean_cat_rc=np.array(transform('clean_categories',x_train))\n",
    "x_te_clean_cat_rc=np.array(transform('clean_categories',x_test))\n",
    "\n",
    "print(\"After vectorizations\")\n",
    "print(x_tr_clean_cat_rc.shape, y_train.shape)\n",
    "print(x_te_clean_cat_rc.shape, y_test.shape)\n",
    "print(\"=\"*40)"
   ]
  },
  {
   "cell_type": "markdown",
   "metadata": {},
   "source": [
    "#### B.5  clean_subcategories"
   ]
  },
  {
   "cell_type": "code",
   "execution_count": 435,
   "metadata": {},
   "outputs": [
    {
     "name": "stdout",
     "output_type": "stream",
     "text": [
      "After vectorizations\n",
      "(28000, 2) (28000,)\n",
      "(12000, 2) (12000,)\n",
      "========================================\n"
     ]
    }
   ],
   "source": [
    "x_tr_subclean_cat_rc=np.array(transform('clean_subcategories',x_train))\n",
    "x_te_subclean_cat_rc=np.array(transform('clean_subcategories',x_test))\n",
    "\n",
    "print(\"After vectorizations\")\n",
    "print(x_tr_subclean_cat_rc.shape, y_train.shape)\n",
    "print(x_te_subclean_cat_rc.shape, y_test.shape)\n",
    "print(\"=\"*40)"
   ]
  },
  {
   "cell_type": "markdown",
   "metadata": {},
   "source": [
    "## C. Numerical features"
   ]
  },
  {
   "cell_type": "markdown",
   "metadata": {},
   "source": [
    "#### C.1 Price"
   ]
  },
  {
   "cell_type": "code",
   "execution_count": 436,
   "metadata": {},
   "outputs": [
    {
     "name": "stdout",
     "output_type": "stream",
     "text": [
      "shapes before vectorization\n",
      "(28000,)\n",
      "(12000,)\n",
      "========== shape after vectorization ==========\n",
      "(28000, 1)\n",
      "(12000, 1)\n"
     ]
    }
   ],
   "source": [
    "normalizer=Normalizer()\n",
    "x_tr_price_norm=normalizer.fit_transform(x_train['price'].values.reshape(1,-1))\n",
    "#x_cv_price_norm=normalizer.fit_transform(x_cv['price'].values.reshape(1,-1))\n",
    "x_te_price_norm=normalizer.transform(x_test['price'].values.reshape(1,-1))\n",
    "\n",
    "print('shapes before vectorization')\n",
    "print(x_train['price'].shape)\n",
    "#print(x_cv['price'].shape)\n",
    "print(x_test['price'].shape)\n",
    "print('='*10,'shape after vectorization','='*10)\n",
    "\n",
    "x_tr_price_norm=x_tr_price_norm.reshape(-1,1)\n",
    "#x_cv_price_norm=x_cv_price_norm.reshape(-1,1)\n",
    "x_te_price_norm=x_te_price_norm.reshape(-1,1)\n",
    "\n",
    "print(x_tr_price_norm.shape)\n",
    "#print(x_cv_price_norm.shape)\n",
    "print(x_te_price_norm.shape)"
   ]
  },
  {
   "cell_type": "markdown",
   "metadata": {},
   "source": [
    "#### C.2  No of projects previously  posted"
   ]
  },
  {
   "cell_type": "code",
   "execution_count": 437,
   "metadata": {},
   "outputs": [
    {
     "name": "stdout",
     "output_type": "stream",
     "text": [
      "shapes before vectorization\n",
      "(28000,)\n",
      "(12000,)\n",
      "========== shape after vectorization ==========\n",
      "(28000, 1)\n",
      "(12000, 1)\n"
     ]
    }
   ],
   "source": [
    "normalizer=Normalizer()\n",
    "x_tr_prevposted_norm=normalizer.fit_transform(x_train['teacher_number_of_previously_posted_projects'].values.reshape(1,-1))\n",
    "#x_cv_prevposted_norm=normalizer.fit_transform(x_cv['teacher_number_of_previously_posted_projects'].values.reshape(1,-1))\n",
    "x_te_prevposted_norm=normalizer.transform(x_test['teacher_number_of_previously_posted_projects'].values.reshape(1,-1))\n",
    "\n",
    "print('shapes before vectorization')\n",
    "print(x_train['teacher_number_of_previously_posted_projects'].shape)\n",
    "#print(x_cv['teacher_number_of_previously_posted_projects'].shape)\n",
    "print(x_test['teacher_number_of_previously_posted_projects'].shape)\n",
    "print('='*10,'shape after vectorization','='*10)\n",
    "\n",
    "\n",
    "x_tr_prevposted_norm= x_tr_prevposted_norm.reshape(-1,1)\n",
    "#x_cv_prevposted_norm= x_cv_prevposted_norm.reshape(-1,1)\n",
    "x_te_prevposted_norm= x_te_prevposted_norm.reshape(-1,1)\n",
    "\n",
    "\n",
    "\n",
    "\n",
    "print(x_tr_prevposted_norm.shape)\n",
    "#print(x_cv_prevposted_norm.shape)\n",
    "print(x_te_prevposted_norm.shape)"
   ]
  },
  {
   "cell_type": "markdown",
   "metadata": {},
   "source": [
    "#### C3. Sentiment values"
   ]
  },
  {
   "cell_type": "code",
   "execution_count": 438,
   "metadata": {},
   "outputs": [],
   "source": [
    "#positive\n",
    "x_tr_positive_norm=normalizer.fit_transform(x_train['positive'].values.reshape(1,-1))\n",
    "x_te_positive_norm=normalizer.transform(x_test['positive'].values.reshape(1,-1))\n",
    "\n",
    "x_tr_positive_norm=x_tr_positive_norm.reshape(-1,1)\n",
    "x_te_positive_norm=x_te_positive_norm.reshape(-1,1)\n",
    "\n",
    "#negative\n",
    "x_tr_negative_norm=normalizer.fit_transform(x_train['negative'].values.reshape(1,-1))\n",
    "x_te_negative_norm=normalizer.transform(x_test['negative'].values.reshape(1,-1))\n",
    "\n",
    "x_tr_negative_norm=x_tr_negative_norm.reshape(-1,1)\n",
    "x_te_negative_norm=x_te_negative_norm.reshape(-1,1)\n",
    "\n",
    "#neutral\n",
    "\n",
    "x_tr_neutral_norm = normalizer.fit_transform(x_train['neutral'].values.reshape(1,-1))\n",
    "x_te_neutral_norm=  normalizer.transform(x_test['neutral'].values.reshape(1,-1))\n",
    "\n",
    "x_tr_neutral_norm=  x_tr_neutral_norm.reshape(-1,1)\n",
    "x_te_neutral_norm=   x_te_neutral_norm.reshape(-1,1)\n",
    "\n",
    "#compound\n",
    "x_tr_compound_norm=normalizer.fit_transform(x_train['compound'].values.reshape(1,-1))\n",
    "x_te_compound_norm=normalizer.transform(x_test['compound'].values.reshape(1,-1))\n",
    "\n",
    "x_tr_compound_norm=x_tr_compound_norm.reshape(-1,1)\n",
    "x_te_compound_norm=x_te_compound_norm.reshape(-1,1)\n"
   ]
  },
  {
   "cell_type": "markdown",
   "metadata": {},
   "source": [
    "<h2>1.4 Appling Models on different kind of featurization as mentioned in the instructions</h2>"
   ]
  },
  {
   "cell_type": "markdown",
   "metadata": {},
   "source": [
    "#  1.4.1 Stacking(SET 1)"
   ]
  },
  {
   "cell_type": "markdown",
   "metadata": {},
   "source": [
    "Set 1: categorical(instead of one hot encoding, try response coding: use probability values), \n",
    "numerical features + project_title(TFIDF)+ preprocessed_eassay (TFIDF)+sentiment Score of eassay\n",
    "(check the bellow example,\n",
    "include all 4 values as 4 features)"
   ]
  },
  {
   "cell_type": "code",
   "execution_count": 440,
   "metadata": {},
   "outputs": [],
   "source": [
    "#train set\n",
    "x_tr_set1=hstack((x_tr_essay_tfidf,x_tr_skul_state_rc,x_tr_prefix_rc,x_tr_prj_grade_cat_rc,x_tr_clean_cat_rc,\n",
    "                 x_tr_subclean_cat_rc,x_tr_price_norm,x_tr_prevposted_norm,x_tr_positive_norm,x_tr_negative_norm,\n",
    "                 x_tr_neutral_norm,x_tr_compound_norm)).tocsr()\n",
    "\n",
    "#test set\n",
    "x_te_set1=hstack((x_te_essay_tfidf,x_te_skul_state_rc,x_te_prefix_rc,x_te_prj_grade_cat_rc,x_te_clean_cat_rc,\n",
    "                 x_te_subclean_cat_rc,x_te_price_norm,x_te_prevposted_norm,x_te_positive_norm,x_te_negative_norm,\n",
    "                 x_te_neutral_norm,x_te_compound_norm)).tocsr()\n"
   ]
  },
  {
   "cell_type": "code",
   "execution_count": 441,
   "metadata": {},
   "outputs": [
    {
     "name": "stdout",
     "output_type": "stream",
     "text": [
      "(28000, 9679)\n",
      "(12000, 9679)\n"
     ]
    }
   ],
   "source": [
    "print(x_tr_set1.shape)\n",
    "print(x_te_set1.shape)"
   ]
  },
  {
   "cell_type": "markdown",
   "metadata": {},
   "source": [
    "###  Applying gbdt"
   ]
  },
  {
   "cell_type": "markdown",
   "metadata": {},
   "source": [
    "### without any tunung"
   ]
  },
  {
   "cell_type": "code",
   "execution_count": 442,
   "metadata": {},
   "outputs": [],
   "source": [
    "gbdt = GradientBoostingClassifier()"
   ]
  },
  {
   "cell_type": "code",
   "execution_count": 443,
   "metadata": {},
   "outputs": [
    {
     "data": {
      "text/plain": [
       "GradientBoostingClassifier(ccp_alpha=0.0, criterion='friedman_mse', init=None,\n",
       "                           learning_rate=0.1, loss='deviance', max_depth=3,\n",
       "                           max_features=None, max_leaf_nodes=None,\n",
       "                           min_impurity_decrease=0.0, min_impurity_split=None,\n",
       "                           min_samples_leaf=1, min_samples_split=2,\n",
       "                           min_weight_fraction_leaf=0.0, n_estimators=100,\n",
       "                           n_iter_no_change=None, presort='deprecated',\n",
       "                           random_state=None, subsample=1.0, tol=0.0001,\n",
       "                           validation_fraction=0.1, verbose=0,\n",
       "                           warm_start=False)"
      ]
     },
     "execution_count": 443,
     "metadata": {},
     "output_type": "execute_result"
    }
   ],
   "source": [
    "gbdt.fit(x_tr_set1,y_train)"
   ]
  },
  {
   "cell_type": "code",
   "execution_count": 444,
   "metadata": {},
   "outputs": [],
   "source": [
    "y_pred_gbdt = gbdt.predict(x_te_set1)"
   ]
  },
  {
   "cell_type": "code",
   "execution_count": 445,
   "metadata": {},
   "outputs": [
    {
     "name": "stdout",
     "output_type": "stream",
     "text": [
      "accuracy of gbdt without any tuning is =  0.8475833333333334\n"
     ]
    }
   ],
   "source": [
    "gbdt_accuracy=metrics.accuracy_score(y_test,y_pred_gbdt)\n",
    "print('accuracy of gbdt without any tuning is = ',gbdt_accuracy)"
   ]
  },
  {
   "cell_type": "markdown",
   "metadata": {},
   "source": [
    "### Hyperpm tuning"
   ]
  },
  {
   "cell_type": "code",
   "execution_count": 446,
   "metadata": {},
   "outputs": [],
   "source": [
    "pm={\"max_depth\":[1,2,3,4],\"n_estimators\":[5,10,15,20]}"
   ]
  },
  {
   "cell_type": "code",
   "execution_count": 447,
   "metadata": {},
   "outputs": [
    {
     "name": "stdout",
     "output_type": "stream",
     "text": [
      "Fitting 10 folds for each of 16 candidates, totalling 160 fits\n"
     ]
    },
    {
     "name": "stderr",
     "output_type": "stream",
     "text": [
      "[Parallel(n_jobs=-1)]: Using backend LokyBackend with 8 concurrent workers.\n",
      "[Parallel(n_jobs=-1)]: Done  34 tasks      | elapsed:   49.2s\n",
      "[Parallel(n_jobs=-1)]: Done 160 out of 160 | elapsed:  7.6min finished\n"
     ]
    },
    {
     "name": "stdout",
     "output_type": "stream",
     "text": [
      "time taken  483.55140829086304\n"
     ]
    }
   ],
   "source": [
    "start=time.time()\n",
    "clf = GridSearchCV(gbdt,param_grid=pm,scoring='roc_auc',return_train_score=True,n_jobs=-1,cv=10,verbose=1)\n",
    "clf.fit(x_tr_set1,y_train)\n",
    "end=time.time()\n",
    "print('time taken ',end-start)"
   ]
  },
  {
   "cell_type": "code",
   "execution_count": 448,
   "metadata": {},
   "outputs": [
    {
     "name": "stdout",
     "output_type": "stream",
     "text": [
      "Best parameters are  {'max_depth': 4, 'n_estimators': 20}\n",
      "Best roc auc score ais  0.683893030511965\n"
     ]
    }
   ],
   "source": [
    "print('Best parameters are ',clf.best_params_ )\n",
    "print('Best roc auc score ais ',clf.best_score_ )"
   ]
  },
  {
   "cell_type": "code",
   "execution_count": 449,
   "metadata": {},
   "outputs": [],
   "source": [
    "cv_score=clf.cv_results_['mean_test_score']\n",
    "train_score=clf.cv_results_['mean_train_score']"
   ]
  },
  {
   "cell_type": "code",
   "execution_count": 450,
   "metadata": {},
   "outputs": [
    {
     "data": {
      "text/plain": [
       "dict_keys(['mean_fit_time', 'std_fit_time', 'mean_score_time', 'std_score_time', 'param_max_depth', 'param_n_estimators', 'params', 'split0_test_score', 'split1_test_score', 'split2_test_score', 'split3_test_score', 'split4_test_score', 'split5_test_score', 'split6_test_score', 'split7_test_score', 'split8_test_score', 'split9_test_score', 'mean_test_score', 'std_test_score', 'rank_test_score', 'split0_train_score', 'split1_train_score', 'split2_train_score', 'split3_train_score', 'split4_train_score', 'split5_train_score', 'split6_train_score', 'split7_train_score', 'split8_train_score', 'split9_train_score', 'mean_train_score', 'std_train_score'])"
      ]
     },
     "execution_count": 450,
     "metadata": {},
     "output_type": "execute_result"
    }
   ],
   "source": [
    "clf.cv_results_.keys()"
   ]
  },
  {
   "cell_type": "markdown",
   "metadata": {},
   "source": [
    "### Heat map set1"
   ]
  },
  {
   "cell_type": "code",
   "execution_count": 451,
   "metadata": {},
   "outputs": [],
   "source": [
    "df=pd.DataFrame(clf.cv_results_,columns=clf.cv_results_.keys())\n",
    "scores=df.groupby(['param_max_depth','param_n_estimators']).max()\n",
    "scores=max_score.unstack()[['mean_train_score','mean_test_score']]"
   ]
  },
  {
   "cell_type": "code",
   "execution_count": 452,
   "metadata": {},
   "outputs": [
    {
     "data": {
      "image/png": "[encoded data removed]",
      "text/plain": [
       "<Figure size 1440x432 with 4 Axes>"
      ]
     },
     "metadata": {},
     "output_type": "display_data"
    }
   ],
   "source": [
    "fig,ax=plt.subplots(1,2,figsize=(20,6))\n",
    "\n",
    "sns.heatmap(max_score.mean_test_score,fmt='g',cmap='PiYG',ax=ax[0],annot=True)\n",
    "\n",
    "sns.heatmap(max_score.mean_train_score,fmt='g',cmap='PiYG',ax=ax[1],annot=True)\n",
    "\n",
    "ax[0].set_title('CV HEATMAP')\n",
    "ax[1].set_title(\"TRAIN HEATMAP\")\n",
    "plt.show()"
   ]
  },
  {
   "cell_type": "markdown",
   "metadata": {},
   "source": [
    "### Using best hyperparametrs set1"
   ]
  },
  {
   "cell_type": "code",
   "execution_count": 453,
   "metadata": {},
   "outputs": [
    {
     "name": "stdout",
     "output_type": "stream",
     "text": [
      "26.641743659973145\n"
     ]
    }
   ],
   "source": [
    "start=time.time()\n",
    "\n",
    "tuned_gbdt=GradientBoostingClassifier(max_depth=4,n_estimators=20)\n",
    "tuned_gbdt.fit(x_tr_set1,y_train)\n",
    "\n",
    "\n",
    "end=time.time()\n",
    "print((end-start))"
   ]
  },
  {
   "cell_type": "markdown",
   "metadata": {},
   "source": [
    "###### Roc auc using predic proba"
   ]
  },
  {
   "cell_type": "code",
   "execution_count": 454,
   "metadata": {},
   "outputs": [
    {
     "name": "stdout",
     "output_type": "stream",
     "text": [
      "accuracy of the tuned model on train set is  0.8487142857142858\n",
      "AUC score of the tuned model on train data is  0.7433115319550065\n",
      "----------------------------------------\n",
      "accuracy of the tuned model on test set is  0.8468333333333333\n",
      "AUC score of the tuned model on test data is  0.6792878618344209\n"
     ]
    },
    {
     "data": {
      "image/png": "[encoded data removed]",
      "text/plain": [
       "<Figure size 432x288 with 1 Axes>"
      ]
     },
     "metadata": {},
     "output_type": "display_data"
    }
   ],
   "source": [
    "#train set\n",
    "y_predtrain_tunedgbdt=tuned_gbdt.predict(x_tr_set1)\n",
    "print('accuracy of the tuned model on train set is ',metrics.accuracy_score(y_train,y_predtrain_tunedgbdt))\n",
    "\n",
    "proba_train=tuned_gbdt.predict_proba(x_tr_set1)\n",
    "#keeping probs of the positive class only\n",
    "proba_train = proba_train[:,1]\n",
    "\n",
    "fpr_train,tpr_train,threshold_train=metrics.roc_curve(y_train,proba_train)\n",
    "print('AUC score of the tuned model on train data is ',metrics.roc_auc_score(y_train,proba_train))\n",
    "#print('MISC ',metrics.auc(x_tr_set1,y_train))\n",
    "#plotting\n",
    "plt.plot(fpr_train,tpr_train,linestyle='-',label='train roc auc '+str(metrics.roc_auc_score(y_train,proba_train)))\n",
    "\n",
    "print(\"--\"*20)\n",
    "#test set\n",
    "y_predtest_tunedgbdt = tuned_gbdt.predict(x_te_set1)\n",
    "print('accuracy of the tuned model on test set is ',metrics.accuracy_score(y_test,y_predtest_tunedgbdt))\n",
    "\n",
    "proba_test=tuned_gbdt.predict_proba(x_te_set1)\n",
    "proba_test=proba_test[:,1]\n",
    "\n",
    "fpr_test,tpr_test,threshold_test=metrics.roc_curve(y_test,y_predtest_tunedgbdt)\n",
    "print('AUC score of the tuned model on test data is ',metrics.roc_auc_score(y_test,proba_test))\n",
    "plt.plot(fpr_test,tpr_test,linestyle='--',label='test roc auc '+str(metrics.roc_auc_score(y_test,proba_test)))\n",
    "plt.xlabel('fpr')\n",
    "plt.ylabel('tpr')\n",
    "plt.title('ROC CURVE')\n",
    "plt.grid()\n",
    "plt.legend()\n",
    "plt.show()\n"
   ]
  },
  {
   "cell_type": "markdown",
   "metadata": {},
   "source": [
    "#### finding best threshold set1"
   ]
  },
  {
   "cell_type": "code",
   "execution_count": 455,
   "metadata": {},
   "outputs": [],
   "source": [
    "def best_threshold(fpr,tpr,threshold):\n",
    "    x=np.argmax(tpr*(1-fpr))\n",
    "    return threshold[x]\n",
    "   \n",
    "\n",
    "def prd_on_best_threshold(threshold,y_pred_tuned_gbdt):\n",
    "    pred=[]\n",
    "    for y_hat in y_pred_tuned_gbdt:\n",
    "        if y_hat > threshold:\n",
    "            pred.append(1)\n",
    "        else:\n",
    "            pred.append(0)\n",
    "    return pred\n",
    "    \n",
    "    "
   ]
  },
  {
   "cell_type": "markdown",
   "metadata": {},
   "source": [
    "###### train  and test set best threshold and confusion matrix"
   ]
  },
  {
   "cell_type": "code",
   "execution_count": 456,
   "metadata": {},
   "outputs": [
    {
     "name": "stdout",
     "output_type": "stream",
     "text": [
      "best threshold of train set is  0.8454436788244347\n",
      "best threshold of test set is  1\n"
     ]
    }
   ],
   "source": [
    "#train set\n",
    "best_threshold_train=best_threshold(fpr_train,tpr_train,threshold_train)\n",
    "print('best threshold of train set is ',best_threshold_train)\n",
    "#predmon best threshold\n",
    "y_pred_train_best_threshold =  prd_on_best_threshold(best_threshold_train,y_predtrain_tunedgbdt)\n",
    "\n",
    "\n",
    "#test set\n",
    "best_threshold_test=best_threshold(fpr_test,tpr_test,threshold_test)\n",
    "print('best threshold of test set is ',best_threshold_test)\n",
    "#predmon best threshold\n",
    "y_pred_test_best_threshold =  prd_on_best_threshold(best_threshold_test,y_predtest_tunedgbdt)\n"
   ]
  },
  {
   "cell_type": "code",
   "execution_count": 457,
   "metadata": {},
   "outputs": [
    {
     "data": {
      "image/png": "[encoded data removed]",
      "text/plain": [
       "<Figure size 1440x432 with 4 Axes>"
      ]
     },
     "metadata": {},
     "output_type": "display_data"
    }
   ],
   "source": [
    "fig,ax=plt.subplots(1,2,figsize=(20,6))\n",
    "\n",
    "#train set\n",
    "cm_train=metrics.confusion_matrix(y_train,y_predtrain_tunedgbdt)\n",
    "sns.heatmap(cm_train,annot=True,fmt='g',ax=ax[0])\n",
    "ax[0].set_title('train data')\n",
    "ax[0].set_xlabel('Predicted values')\n",
    "ax[0].set_ylabel('Actual values')\n",
    "ax[0].xaxis.set_ticklabels(['false','True'])\n",
    "ax[0].yaxis.set_ticklabels(['false','True'])\n",
    "\n",
    "#test set\n",
    "cm_test=metrics.confusion_matrix(y_test,y_predtest_tunedgbdt)\n",
    "sns.heatmap(cm_test,annot=True,fmt='g',ax=ax[1])\n",
    "ax[1].set_title('test data')\n",
    "ax[1].set_xlabel('Predicted values')\n",
    "ax[1].set_ylabel('Actual values')\n",
    "ax[1].xaxis.set_ticklabels(['false','True'])\n",
    "ax[1].yaxis.set_ticklabels(['false','True'])\n",
    "\n",
    "plt.show()\n",
    "\n"
   ]
  },
  {
   "cell_type": "markdown",
   "metadata": {},
   "source": [
    "#  1.4.2 Stacking(SET 2)"
   ]
  },
  {
   "cell_type": "markdown",
   "metadata": {},
   "source": [
    "Set 2: categorical(instead of one hot encoding, try response coding: use probability values), \n",
    "    numerical features + project_title(TFIDF W2V)+ preprocessed_eassay (TFIDF W2V)"
   ]
  },
  {
   "cell_type": "code",
   "execution_count": 458,
   "metadata": {},
   "outputs": [
    {
     "data": {
      "text/plain": [
       "(28000, 2)"
      ]
     },
     "execution_count": 458,
     "metadata": {},
     "output_type": "execute_result"
    }
   ],
   "source": [
    "x_tr_skul_state_rc.shape"
   ]
  },
  {
   "cell_type": "code",
   "execution_count": 459,
   "metadata": {},
   "outputs": [],
   "source": [
    "tfidf_w2v_vector_train=sparse.csr_matrix(tfidf_w2v_vector_train)\n",
    "tfidf_w2v_vectors_test=sparse.csr_matrix(tfidf_w2v_vectors_test)"
   ]
  },
  {
   "cell_type": "code",
   "execution_count": 460,
   "metadata": {},
   "outputs": [
    {
     "name": "stdout",
     "output_type": "stream",
     "text": [
      "(28000, 316)\n",
      "(12000, 316)\n"
     ]
    }
   ],
   "source": [
    "x_tr_set2=hstack((tfidf_w2v_vector_train,x_tr_skul_state_rc,x_tr_prefix_rc,x_tr_prj_grade_cat_rc,x_tr_clean_cat_rc,\n",
    "                 x_tr_subclean_cat_rc,x_tr_price_norm,x_tr_prevposted_norm,x_tr_positive_norm,x_tr_negative_norm,\n",
    "                 x_tr_neutral_norm,x_tr_compound_norm)).tocsr()\n",
    "\n",
    "x_te_set2=hstack((tfidf_w2v_vectors_test,x_te_skul_state_rc,x_te_prefix_rc,x_te_prj_grade_cat_rc,x_te_clean_cat_rc,\n",
    "                 x_te_subclean_cat_rc,x_te_price_norm,x_te_prevposted_norm,x_te_positive_norm,x_te_negative_norm,\n",
    "                 x_te_neutral_norm,x_te_compound_norm)).tocsr()\n",
    "\n",
    "print(x_tr_set2.shape)\n",
    "print(x_te_set2.shape)"
   ]
  },
  {
   "cell_type": "markdown",
   "metadata": {},
   "source": [
    "### Applying gbdt"
   ]
  },
  {
   "cell_type": "code",
   "execution_count": 461,
   "metadata": {},
   "outputs": [
    {
     "data": {
      "text/plain": [
       "GradientBoostingClassifier(ccp_alpha=0.0, criterion='friedman_mse', init=None,\n",
       "                           learning_rate=0.1, loss='deviance', max_depth=3,\n",
       "                           max_features=None, max_leaf_nodes=None,\n",
       "                           min_impurity_decrease=0.0, min_impurity_split=None,\n",
       "                           min_samples_leaf=1, min_samples_split=2,\n",
       "                           min_weight_fraction_leaf=0.0, n_estimators=100,\n",
       "                           n_iter_no_change=None, presort='deprecated',\n",
       "                           random_state=None, subsample=1.0, tol=0.0001,\n",
       "                           validation_fraction=0.1, verbose=0,\n",
       "                           warm_start=False)"
      ]
     },
     "execution_count": 461,
     "metadata": {},
     "output_type": "execute_result"
    }
   ],
   "source": [
    "gbdt=GradientBoostingClassifier()\n",
    "gbdt.fit(x_tr_set2,y_train)"
   ]
  },
  {
   "cell_type": "code",
   "execution_count": 462,
   "metadata": {},
   "outputs": [],
   "source": [
    "y_pred_gbdt = gbdt.predict(x_te_set2)"
   ]
  },
  {
   "cell_type": "code",
   "execution_count": 463,
   "metadata": {},
   "outputs": [
    {
     "name": "stdout",
     "output_type": "stream",
     "text": [
      "accuracy of gbdt without any tuning is =  0.8453333333333334\n"
     ]
    }
   ],
   "source": [
    "gbdt_accuracy=metrics.accuracy_score(y_test,y_pred_gbdt)\n",
    "print('accuracy of gbdt without any tuning is = ',gbdt_accuracy)"
   ]
  },
  {
   "cell_type": "markdown",
   "metadata": {},
   "source": [
    "### Hyper parameter tuning"
   ]
  },
  {
   "cell_type": "code",
   "execution_count": 464,
   "metadata": {},
   "outputs": [],
   "source": [
    "pm={\"max_depth\":[1,2,3,4],\"n_estimators\":[5,10,15,20]}"
   ]
  },
  {
   "cell_type": "code",
   "execution_count": 465,
   "metadata": {},
   "outputs": [
    {
     "name": "stdout",
     "output_type": "stream",
     "text": [
      "Fitting 10 folds for each of 16 candidates, totalling 160 fits\n"
     ]
    },
    {
     "name": "stderr",
     "output_type": "stream",
     "text": [
      "[Parallel(n_jobs=-1)]: Using backend LokyBackend with 8 concurrent workers.\n",
      "[Parallel(n_jobs=-1)]: Done  34 tasks      | elapsed:  2.2min\n",
      "[Parallel(n_jobs=-1)]: Done 160 out of 160 | elapsed: 22.5min finished\n"
     ]
    },
    {
     "name": "stdout",
     "output_type": "stream",
     "text": [
      "time taken  1436.3896281719208\n"
     ]
    }
   ],
   "source": [
    "start=time.time()\n",
    "clf = GridSearchCV(gbdt,param_grid=pm,scoring='roc_auc',return_train_score=True,n_jobs=-1,cv=10,verbose=1)\n",
    "clf.fit(x_tr_set2,y_train)\n",
    "end=time.time()\n",
    "print('time taken ',end-start)"
   ]
  },
  {
   "cell_type": "code",
   "execution_count": 466,
   "metadata": {},
   "outputs": [
    {
     "name": "stdout",
     "output_type": "stream",
     "text": [
      "Best parameters are  {'max_depth': 4, 'n_estimators': 20}\n",
      "Best roc auc score is  0.684199398759257\n"
     ]
    }
   ],
   "source": [
    "print('Best parameters are ',clf.best_params_ )\n",
    "print('Best roc auc score is ',clf.best_score_ )"
   ]
  },
  {
   "cell_type": "markdown",
   "metadata": {},
   "source": [
    "### Heatmap"
   ]
  },
  {
   "cell_type": "code",
   "execution_count": 467,
   "metadata": {},
   "outputs": [],
   "source": [
    "df=pd.DataFrame(clf.cv_results_,columns=clf.cv_results_.keys())\n",
    "max_score=df.groupby(['param_max_depth','param_n_estimators']).max()\n",
    "max_score=max_score.unstack()[['mean_train_score','mean_test_score']]"
   ]
  },
  {
   "cell_type": "code",
   "execution_count": 468,
   "metadata": {},
   "outputs": [
    {
     "data": {
      "image/png": "[encoded data removed]",
      "text/plain": [
       "<Figure size 1440x432 with 4 Axes>"
      ]
     },
     "metadata": {},
     "output_type": "display_data"
    }
   ],
   "source": [
    "fig,ax=plt.subplots(1,2,figsize=(20,6))\n",
    "\n",
    "sns.heatmap(max_score.mean_test_score,fmt='g',cmap='PiYG',ax=ax[0],annot=True)\n",
    "\n",
    "sns.heatmap(max_score.mean_train_score,fmt='g',cmap='PiYG',ax=ax[1],annot=True)\n",
    "\n",
    "ax[0].set_title('CV HEATMAP')\n",
    "ax[1].set_title(\"TRAIN HEATMAP\")\n",
    "plt.show()"
   ]
  },
  {
   "cell_type": "markdown",
   "metadata": {},
   "source": [
    "### Using best hyperparametrs set2"
   ]
  },
  {
   "cell_type": "code",
   "execution_count": 469,
   "metadata": {},
   "outputs": [
    {
     "name": "stdout",
     "output_type": "stream",
     "text": [
      "81.9489495754242\n"
     ]
    }
   ],
   "source": [
    "start=time.time()\n",
    "\n",
    "tuned_gbdt=GradientBoostingClassifier(max_depth=4,n_estimators=20)\n",
    "tuned_gbdt.fit(x_tr_set2,y_train)\n",
    "\n",
    "\n",
    "end=time.time()\n",
    "print((end-start))"
   ]
  },
  {
   "cell_type": "markdown",
   "metadata": {},
   "source": [
    "###### Roc auc using predic proba"
   ]
  },
  {
   "cell_type": "code",
   "execution_count": 470,
   "metadata": {},
   "outputs": [
    {
     "name": "stdout",
     "output_type": "stream",
     "text": [
      "accuracy of the tuned model on train set is  0.8473928571428572\n",
      "AUC score of the tuned model on train data is  0.756936352086071\n",
      "accuracy of the tuned model on test set is  0.84625\n",
      "AUC score of the tuned model on test data is  0.6762041390880118\n"
     ]
    },
    {
     "data": {
      "image/png": "[encoded data removed]",
      "text/plain": [
       "<Figure size 432x288 with 1 Axes>"
      ]
     },
     "metadata": {},
     "output_type": "display_data"
    }
   ],
   "source": [
    "#train set\n",
    "y_predtrain_tunedgbdt=tuned_gbdt.predict(x_tr_set2)\n",
    "print('accuracy of the tuned model on train set is ',metrics.accuracy_score(y_train,y_predtrain_tunedgbdt))\n",
    "\n",
    "proba_train=tuned_gbdt.predict_proba(x_tr_set2)\n",
    "#keeping probs of the positive class only\n",
    "proba_train = proba_train[:,1]\n",
    "\n",
    "fpr_train,tpr_train,threshold_train=metrics.roc_curve(y_train,proba_train)\n",
    "print('AUC score of the tuned model on train data is ',metrics.roc_auc_score(y_train,proba_train))\n",
    "#plotting\n",
    "plt.plot(fpr_train,tpr_train,linestyle='-',label='train roc auc '+str(metrics.roc_auc_score(y_train,proba_train)))\n",
    "\n",
    "\n",
    "#test set\n",
    "y_predtest_tunedgbdt = tuned_gbdt.predict(x_te_set2)\n",
    "print('accuracy of the tuned model on test set is ',metrics.accuracy_score(y_test,y_predtest_tunedgbdt))\n",
    "\n",
    "proba_test=tuned_gbdt.predict_proba(x_te_set2)\n",
    "proba_test=proba_test[:,1]\n",
    "\n",
    "fpr_test,tpr_test,threshold_test=metrics.roc_curve(y_test,y_predtest_tunedgbdt)\n",
    "print('AUC score of the tuned model on test data is ',metrics.roc_auc_score(y_test,proba_test))\n",
    "plt.plot(fpr_test,tpr_test,linestyle='--',label='test roc auc '+str(metrics.roc_auc_score(y_test,proba_test)))\n",
    "plt.xlabel('fpr')\n",
    "plt.ylabel('tpr')\n",
    "plt.grid()\n",
    "plt.title('ROC CURVE') \n",
    "plt.legend()\n",
    "plt.show()\n"
   ]
  },
  {
   "cell_type": "markdown",
   "metadata": {},
   "source": [
    "###### train  and test set best threshold and confusion matrix"
   ]
  },
  {
   "cell_type": "code",
   "execution_count": 471,
   "metadata": {},
   "outputs": [
    {
     "name": "stdout",
     "output_type": "stream",
     "text": [
      "best threshold of train set is  0.8419469139136653\n",
      "best threshold of test set is  2\n"
     ]
    }
   ],
   "source": [
    "#train set\n",
    "best_threshold_train=best_threshold(fpr_train,tpr_train,threshold_train)\n",
    "print('best threshold of train set is ',best_threshold_train)\n",
    "#predmon best threshold\n",
    "y_pred_train_best_threshold =  prd_on_best_threshold(best_threshold_train,y_predtrain_tunedgbdt)\n",
    "\n",
    "\n",
    "#test set\n",
    "best_threshold_test=best_threshold(fpr_test,tpr_test,threshold_test)\n",
    "print('best threshold of test set is ',best_threshold_test)\n",
    "#predmon best threshold\n",
    "y_pred_test_best_threshold =  prd_on_best_threshold(best_threshold_test,y_predtest_tunedgbdt)\n"
   ]
  },
  {
   "cell_type": "code",
   "execution_count": 472,
   "metadata": {},
   "outputs": [
    {
     "data": {
      "image/png": "[encoded data removed]",
      "text/plain": [
       "<Figure size 1440x432 with 4 Axes>"
      ]
     },
     "metadata": {},
     "output_type": "display_data"
    }
   ],
   "source": [
    "fig,ax=plt.subplots(1,2,figsize=(20,6))\n",
    "\n",
    "#train set\n",
    "cm_train=metrics.confusion_matrix(y_train,y_predtrain_tunedgbdt)\n",
    "sns.heatmap(cm_train,annot=True,fmt='g',ax=ax[0])\n",
    "ax[0].set_title('train data')\n",
    "ax[0].set_xlabel('Predicted values')\n",
    "ax[0].set_ylabel('Actual values')\n",
    "ax[0].xaxis.set_ticklabels(['false','True'])\n",
    "ax[0].yaxis.set_ticklabels(['false','True'])\n",
    "\n",
    "#test set\n",
    "cm_test=metrics.confusion_matrix(y_test,y_predtest_tunedgbdt)\n",
    "sns.heatmap(cm_test,annot=True,fmt='g',ax=ax[1])\n",
    "ax[1].set_title('test data')\n",
    "ax[1].set_xlabel('Predicted values')\n",
    "ax[1].set_ylabel('Actual values')\n",
    "ax[1].xaxis.set_ticklabels(['false','True'])\n",
    "ax[1].yaxis.set_ticklabels(['false','True'])\n",
    "\n",
    "plt.show()\n",
    "\n"
   ]
  },
  {
   "cell_type": "code",
   "execution_count": 473,
   "metadata": {},
   "outputs": [],
   "source": [
    "from prettytable import PrettyTable"
   ]
  },
  {
   "cell_type": "code",
   "execution_count": 475,
   "metadata": {
    "scrolled": true
   },
   "outputs": [
    {
     "name": "stdout",
     "output_type": "stream",
     "text": [
      "+-------------+-------+-------------------------------+----------+\n",
      "|  Vectorizer | Model |        Hyper parameter        | TEST AUC |\n",
      "+-------------+-------+-------------------------------+----------+\n",
      "|    TFIDF    |  GBDT | max_depth=4, n_estimators=20  |  0.6792  |\n",
      "| TFIDF W2VEC |  GBDT | max_depth=4, n_estimators=20  |  0.6762  |\n",
      "+-------------+-------+-------------------------------+----------+\n"
     ]
    }
   ],
   "source": [
    "table=PrettyTable()\n",
    "table.field_names =['Vectorizer','Model','Hyper parameter','TEST AUC']\n",
    "table.add_row(['TFIDF','GBDT','max_depth=4, n_estimators=20 ',' 0.6792'])\n",
    "table.add_row(['TFIDF W2VEC','GBDT','max_depth=4, n_estimators=20 ','0.6762'])\n",
    "print(table)\n"
   ]
  },
  {
   "cell_type": "code",
   "execution_count": null,
   "metadata": {},
   "outputs": [],
   "source": []
  }
 ],
 "metadata": {
  "kernelspec": {
   "display_name": "Python 3",
   "language": "python",
   "name": "python3"
  },
  "language_info": {
   "codemirror_mode": {
    "name": "ipython",
    "version": 3
   },
   "file_extension": ".py",
   "mimetype": "text/x-python",
   "name": "python",
   "nbconvert_exporter": "python",
   "pygments_lexer": "ipython3",
   "version": "3.6.5"
  }
 },
 "nbformat": 4,
 "nbformat_minor": 2
}
